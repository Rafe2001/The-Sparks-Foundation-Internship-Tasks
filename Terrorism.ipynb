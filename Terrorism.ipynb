{
 "cells": [
  {
   "cell_type": "markdown",
   "id": "6a9020e3",
   "metadata": {},
   "source": [
    "# The Sparks Foundation : Data Science and Business Analytics Intern"
   ]
  },
  {
   "cell_type": "raw",
   "id": "214550e2",
   "metadata": {},
   "source": [
    "Task 4 : Exploratory Data Analysis - Terrorism\n",
    "\n",
    "Level : Intermediate\n",
    "\n",
    "Author : Rafe Khan\n",
    "\n",
    "Objective :\n",
    "\n",
    "● Perform ‘Exploratory Data Analysis’ on dataset ‘Global Terrorism’\n",
    "\n",
    "● As a security/defense analyst, try to find out the hot zone of terrorism.\n",
    "\n",
    "● What all security issues and insights you can derive by EDA?"
   ]
  },
  {
   "cell_type": "code",
   "execution_count": 1,
   "id": "a79ee59d",
   "metadata": {},
   "outputs": [
    {
     "name": "stdout",
     "output_type": "stream",
     "text": [
      "Requirement already satisfied: pip in c:\\users\\abdul rafe khan\\anaconda3\\lib\\site-packages (21.2.4)\n",
      "Collecting pip\n",
      "  Using cached pip-23.0.1-py3-none-any.whl (2.1 MB)\n",
      "Installing collected packages: pip\n",
      "  Attempting uninstall: pip\n",
      "    Found existing installation: pip 21.2.4\n",
      "    Uninstalling pip-21.2.4:\n",
      "      Successfully uninstalled pip-21.2.4\n",
      "Successfully installed pip-23.0.1\n",
      "Requirement already satisfied: folium in c:\\users\\abdul rafe khan\\anaconda3\\lib\\site-packages (0.14.0)\n",
      "Requirement already satisfied: requests in c:\\users\\abdul rafe khan\\anaconda3\\lib\\site-packages (from folium) (2.27.1)\n",
      "Requirement already satisfied: branca>=0.6.0 in c:\\users\\abdul rafe khan\\anaconda3\\lib\\site-packages (from folium) (0.6.0)\n",
      "Requirement already satisfied: numpy in c:\\users\\abdul rafe khan\\anaconda3\\lib\\site-packages (from folium) (1.21.5)\n",
      "Requirement already satisfied: jinja2>=2.9 in c:\\users\\abdul rafe khan\\anaconda3\\lib\\site-packages (from folium) (2.11.3)\n",
      "Requirement already satisfied: MarkupSafe>=0.23 in c:\\users\\abdul rafe khan\\anaconda3\\lib\\site-packages (from jinja2>=2.9->folium) (2.0.1)\n",
      "Requirement already satisfied: urllib3<1.27,>=1.21.1 in c:\\users\\abdul rafe khan\\anaconda3\\lib\\site-packages (from requests->folium) (1.26.9)\n",
      "Requirement already satisfied: certifi>=2017.4.17 in c:\\users\\abdul rafe khan\\anaconda3\\lib\\site-packages (from requests->folium) (2021.10.8)\n",
      "Requirement already satisfied: idna<4,>=2.5 in c:\\users\\abdul rafe khan\\anaconda3\\lib\\site-packages (from requests->folium) (3.3)\n",
      "Requirement already satisfied: charset-normalizer~=2.0.0 in c:\\users\\abdul rafe khan\\anaconda3\\lib\\site-packages (from requests->folium) (2.0.4)\n"
     ]
    }
   ],
   "source": [
    "import numpy as np\n",
    "import pandas as pd\n",
    "import matplotlib.pyplot as plt\n",
    "import seaborn as sns\n",
    "!pip install --upgrade pip\n",
    "!pip install folium\n",
    "import folium"
   ]
  },
  {
   "cell_type": "code",
   "execution_count": 2,
   "id": "ccb80356",
   "metadata": {},
   "outputs": [],
   "source": [
    "df = pd.read_csv('globalterrorismdb_0718dist.csv',encoding='latin1', low_memory=False)\n"
   ]
  },
  {
   "cell_type": "code",
   "execution_count": 3,
   "id": "606faeb0",
   "metadata": {},
   "outputs": [
    {
     "data": {
      "text/html": [
       "<div>\n",
       "<style scoped>\n",
       "    .dataframe tbody tr th:only-of-type {\n",
       "        vertical-align: middle;\n",
       "    }\n",
       "\n",
       "    .dataframe tbody tr th {\n",
       "        vertical-align: top;\n",
       "    }\n",
       "\n",
       "    .dataframe thead th {\n",
       "        text-align: right;\n",
       "    }\n",
       "</style>\n",
       "<table border=\"1\" class=\"dataframe\">\n",
       "  <thead>\n",
       "    <tr style=\"text-align: right;\">\n",
       "      <th></th>\n",
       "      <th>eventid</th>\n",
       "      <th>iyear</th>\n",
       "      <th>imonth</th>\n",
       "      <th>iday</th>\n",
       "      <th>approxdate</th>\n",
       "      <th>extended</th>\n",
       "      <th>resolution</th>\n",
       "      <th>country</th>\n",
       "      <th>country_txt</th>\n",
       "      <th>region</th>\n",
       "      <th>...</th>\n",
       "      <th>addnotes</th>\n",
       "      <th>scite1</th>\n",
       "      <th>scite2</th>\n",
       "      <th>scite3</th>\n",
       "      <th>dbsource</th>\n",
       "      <th>INT_LOG</th>\n",
       "      <th>INT_IDEO</th>\n",
       "      <th>INT_MISC</th>\n",
       "      <th>INT_ANY</th>\n",
       "      <th>related</th>\n",
       "    </tr>\n",
       "  </thead>\n",
       "  <tbody>\n",
       "    <tr>\n",
       "      <th>0</th>\n",
       "      <td>197000000001</td>\n",
       "      <td>1970</td>\n",
       "      <td>7</td>\n",
       "      <td>2</td>\n",
       "      <td>NaN</td>\n",
       "      <td>0</td>\n",
       "      <td>NaN</td>\n",
       "      <td>58</td>\n",
       "      <td>Dominican Republic</td>\n",
       "      <td>2</td>\n",
       "      <td>...</td>\n",
       "      <td>NaN</td>\n",
       "      <td>NaN</td>\n",
       "      <td>NaN</td>\n",
       "      <td>NaN</td>\n",
       "      <td>PGIS</td>\n",
       "      <td>0</td>\n",
       "      <td>0</td>\n",
       "      <td>0</td>\n",
       "      <td>0</td>\n",
       "      <td>NaN</td>\n",
       "    </tr>\n",
       "    <tr>\n",
       "      <th>1</th>\n",
       "      <td>197000000002</td>\n",
       "      <td>1970</td>\n",
       "      <td>0</td>\n",
       "      <td>0</td>\n",
       "      <td>NaN</td>\n",
       "      <td>0</td>\n",
       "      <td>NaN</td>\n",
       "      <td>130</td>\n",
       "      <td>Mexico</td>\n",
       "      <td>1</td>\n",
       "      <td>...</td>\n",
       "      <td>NaN</td>\n",
       "      <td>NaN</td>\n",
       "      <td>NaN</td>\n",
       "      <td>NaN</td>\n",
       "      <td>PGIS</td>\n",
       "      <td>0</td>\n",
       "      <td>1</td>\n",
       "      <td>1</td>\n",
       "      <td>1</td>\n",
       "      <td>NaN</td>\n",
       "    </tr>\n",
       "    <tr>\n",
       "      <th>2</th>\n",
       "      <td>197001000001</td>\n",
       "      <td>1970</td>\n",
       "      <td>1</td>\n",
       "      <td>0</td>\n",
       "      <td>NaN</td>\n",
       "      <td>0</td>\n",
       "      <td>NaN</td>\n",
       "      <td>160</td>\n",
       "      <td>Philippines</td>\n",
       "      <td>5</td>\n",
       "      <td>...</td>\n",
       "      <td>NaN</td>\n",
       "      <td>NaN</td>\n",
       "      <td>NaN</td>\n",
       "      <td>NaN</td>\n",
       "      <td>PGIS</td>\n",
       "      <td>-9</td>\n",
       "      <td>-9</td>\n",
       "      <td>1</td>\n",
       "      <td>1</td>\n",
       "      <td>NaN</td>\n",
       "    </tr>\n",
       "    <tr>\n",
       "      <th>3</th>\n",
       "      <td>197001000002</td>\n",
       "      <td>1970</td>\n",
       "      <td>1</td>\n",
       "      <td>0</td>\n",
       "      <td>NaN</td>\n",
       "      <td>0</td>\n",
       "      <td>NaN</td>\n",
       "      <td>78</td>\n",
       "      <td>Greece</td>\n",
       "      <td>8</td>\n",
       "      <td>...</td>\n",
       "      <td>NaN</td>\n",
       "      <td>NaN</td>\n",
       "      <td>NaN</td>\n",
       "      <td>NaN</td>\n",
       "      <td>PGIS</td>\n",
       "      <td>-9</td>\n",
       "      <td>-9</td>\n",
       "      <td>1</td>\n",
       "      <td>1</td>\n",
       "      <td>NaN</td>\n",
       "    </tr>\n",
       "    <tr>\n",
       "      <th>4</th>\n",
       "      <td>197001000003</td>\n",
       "      <td>1970</td>\n",
       "      <td>1</td>\n",
       "      <td>0</td>\n",
       "      <td>NaN</td>\n",
       "      <td>0</td>\n",
       "      <td>NaN</td>\n",
       "      <td>101</td>\n",
       "      <td>Japan</td>\n",
       "      <td>4</td>\n",
       "      <td>...</td>\n",
       "      <td>NaN</td>\n",
       "      <td>NaN</td>\n",
       "      <td>NaN</td>\n",
       "      <td>NaN</td>\n",
       "      <td>PGIS</td>\n",
       "      <td>-9</td>\n",
       "      <td>-9</td>\n",
       "      <td>1</td>\n",
       "      <td>1</td>\n",
       "      <td>NaN</td>\n",
       "    </tr>\n",
       "    <tr>\n",
       "      <th>5</th>\n",
       "      <td>197001010002</td>\n",
       "      <td>1970</td>\n",
       "      <td>1</td>\n",
       "      <td>1</td>\n",
       "      <td>NaN</td>\n",
       "      <td>0</td>\n",
       "      <td>NaN</td>\n",
       "      <td>217</td>\n",
       "      <td>United States</td>\n",
       "      <td>1</td>\n",
       "      <td>...</td>\n",
       "      <td>The Cairo Chief of Police, William Petersen, r...</td>\n",
       "      <td>\"Police Chief Quits,\" Washington Post, January...</td>\n",
       "      <td>\"Cairo Police Chief Quits; Decries Local 'Mili...</td>\n",
       "      <td>Christopher Hewitt, \"Political Violence and Te...</td>\n",
       "      <td>Hewitt Project</td>\n",
       "      <td>-9</td>\n",
       "      <td>-9</td>\n",
       "      <td>0</td>\n",
       "      <td>-9</td>\n",
       "      <td>NaN</td>\n",
       "    </tr>\n",
       "    <tr>\n",
       "      <th>6</th>\n",
       "      <td>197001020001</td>\n",
       "      <td>1970</td>\n",
       "      <td>1</td>\n",
       "      <td>2</td>\n",
       "      <td>NaN</td>\n",
       "      <td>0</td>\n",
       "      <td>NaN</td>\n",
       "      <td>218</td>\n",
       "      <td>Uruguay</td>\n",
       "      <td>3</td>\n",
       "      <td>...</td>\n",
       "      <td>NaN</td>\n",
       "      <td>NaN</td>\n",
       "      <td>NaN</td>\n",
       "      <td>NaN</td>\n",
       "      <td>PGIS</td>\n",
       "      <td>0</td>\n",
       "      <td>0</td>\n",
       "      <td>0</td>\n",
       "      <td>0</td>\n",
       "      <td>NaN</td>\n",
       "    </tr>\n",
       "    <tr>\n",
       "      <th>7</th>\n",
       "      <td>197001020002</td>\n",
       "      <td>1970</td>\n",
       "      <td>1</td>\n",
       "      <td>2</td>\n",
       "      <td>NaN</td>\n",
       "      <td>0</td>\n",
       "      <td>NaN</td>\n",
       "      <td>217</td>\n",
       "      <td>United States</td>\n",
       "      <td>1</td>\n",
       "      <td>...</td>\n",
       "      <td>Damages were estimated to be between $20,000-$...</td>\n",
       "      <td>Committee on Government Operations United Stat...</td>\n",
       "      <td>Christopher Hewitt, \"Political Violence and Te...</td>\n",
       "      <td>NaN</td>\n",
       "      <td>Hewitt Project</td>\n",
       "      <td>-9</td>\n",
       "      <td>-9</td>\n",
       "      <td>0</td>\n",
       "      <td>-9</td>\n",
       "      <td>NaN</td>\n",
       "    </tr>\n",
       "    <tr>\n",
       "      <th>8</th>\n",
       "      <td>197001020003</td>\n",
       "      <td>1970</td>\n",
       "      <td>1</td>\n",
       "      <td>2</td>\n",
       "      <td>NaN</td>\n",
       "      <td>0</td>\n",
       "      <td>NaN</td>\n",
       "      <td>217</td>\n",
       "      <td>United States</td>\n",
       "      <td>1</td>\n",
       "      <td>...</td>\n",
       "      <td>The New Years Gang issue a communiqué to a loc...</td>\n",
       "      <td>Tom Bates, \"Rads: The 1970 Bombing of the Army...</td>\n",
       "      <td>David Newman, Sandra Sutherland, and Jon Stewa...</td>\n",
       "      <td>The Wisconsin Cartographers' Guild, \"Wisconsin...</td>\n",
       "      <td>Hewitt Project</td>\n",
       "      <td>0</td>\n",
       "      <td>0</td>\n",
       "      <td>0</td>\n",
       "      <td>0</td>\n",
       "      <td>NaN</td>\n",
       "    </tr>\n",
       "    <tr>\n",
       "      <th>9</th>\n",
       "      <td>197001030001</td>\n",
       "      <td>1970</td>\n",
       "      <td>1</td>\n",
       "      <td>3</td>\n",
       "      <td>NaN</td>\n",
       "      <td>0</td>\n",
       "      <td>NaN</td>\n",
       "      <td>217</td>\n",
       "      <td>United States</td>\n",
       "      <td>1</td>\n",
       "      <td>...</td>\n",
       "      <td>Karl Armstrong's girlfriend, Lynn Schultz, dro...</td>\n",
       "      <td>Committee on Government Operations United Stat...</td>\n",
       "      <td>Tom Bates, \"Rads: The 1970 Bombing of the Army...</td>\n",
       "      <td>David Newman, Sandra Sutherland, and Jon Stewa...</td>\n",
       "      <td>Hewitt Project</td>\n",
       "      <td>0</td>\n",
       "      <td>0</td>\n",
       "      <td>0</td>\n",
       "      <td>0</td>\n",
       "      <td>NaN</td>\n",
       "    </tr>\n",
       "  </tbody>\n",
       "</table>\n",
       "<p>10 rows × 135 columns</p>\n",
       "</div>"
      ],
      "text/plain": [
       "        eventid  iyear  imonth  iday approxdate  extended resolution  country  \\\n",
       "0  197000000001   1970       7     2        NaN         0        NaN       58   \n",
       "1  197000000002   1970       0     0        NaN         0        NaN      130   \n",
       "2  197001000001   1970       1     0        NaN         0        NaN      160   \n",
       "3  197001000002   1970       1     0        NaN         0        NaN       78   \n",
       "4  197001000003   1970       1     0        NaN         0        NaN      101   \n",
       "5  197001010002   1970       1     1        NaN         0        NaN      217   \n",
       "6  197001020001   1970       1     2        NaN         0        NaN      218   \n",
       "7  197001020002   1970       1     2        NaN         0        NaN      217   \n",
       "8  197001020003   1970       1     2        NaN         0        NaN      217   \n",
       "9  197001030001   1970       1     3        NaN         0        NaN      217   \n",
       "\n",
       "          country_txt  region  ...  \\\n",
       "0  Dominican Republic       2  ...   \n",
       "1              Mexico       1  ...   \n",
       "2         Philippines       5  ...   \n",
       "3              Greece       8  ...   \n",
       "4               Japan       4  ...   \n",
       "5       United States       1  ...   \n",
       "6             Uruguay       3  ...   \n",
       "7       United States       1  ...   \n",
       "8       United States       1  ...   \n",
       "9       United States       1  ...   \n",
       "\n",
       "                                            addnotes  \\\n",
       "0                                                NaN   \n",
       "1                                                NaN   \n",
       "2                                                NaN   \n",
       "3                                                NaN   \n",
       "4                                                NaN   \n",
       "5  The Cairo Chief of Police, William Petersen, r...   \n",
       "6                                                NaN   \n",
       "7  Damages were estimated to be between $20,000-$...   \n",
       "8  The New Years Gang issue a communiqué to a loc...   \n",
       "9  Karl Armstrong's girlfriend, Lynn Schultz, dro...   \n",
       "\n",
       "                                              scite1  \\\n",
       "0                                                NaN   \n",
       "1                                                NaN   \n",
       "2                                                NaN   \n",
       "3                                                NaN   \n",
       "4                                                NaN   \n",
       "5  \"Police Chief Quits,\" Washington Post, January...   \n",
       "6                                                NaN   \n",
       "7  Committee on Government Operations United Stat...   \n",
       "8  Tom Bates, \"Rads: The 1970 Bombing of the Army...   \n",
       "9  Committee on Government Operations United Stat...   \n",
       "\n",
       "                                              scite2  \\\n",
       "0                                                NaN   \n",
       "1                                                NaN   \n",
       "2                                                NaN   \n",
       "3                                                NaN   \n",
       "4                                                NaN   \n",
       "5  \"Cairo Police Chief Quits; Decries Local 'Mili...   \n",
       "6                                                NaN   \n",
       "7  Christopher Hewitt, \"Political Violence and Te...   \n",
       "8  David Newman, Sandra Sutherland, and Jon Stewa...   \n",
       "9  Tom Bates, \"Rads: The 1970 Bombing of the Army...   \n",
       "\n",
       "                                              scite3        dbsource  INT_LOG  \\\n",
       "0                                                NaN            PGIS        0   \n",
       "1                                                NaN            PGIS        0   \n",
       "2                                                NaN            PGIS       -9   \n",
       "3                                                NaN            PGIS       -9   \n",
       "4                                                NaN            PGIS       -9   \n",
       "5  Christopher Hewitt, \"Political Violence and Te...  Hewitt Project       -9   \n",
       "6                                                NaN            PGIS        0   \n",
       "7                                                NaN  Hewitt Project       -9   \n",
       "8  The Wisconsin Cartographers' Guild, \"Wisconsin...  Hewitt Project        0   \n",
       "9  David Newman, Sandra Sutherland, and Jon Stewa...  Hewitt Project        0   \n",
       "\n",
       "   INT_IDEO INT_MISC INT_ANY  related  \n",
       "0         0        0       0      NaN  \n",
       "1         1        1       1      NaN  \n",
       "2        -9        1       1      NaN  \n",
       "3        -9        1       1      NaN  \n",
       "4        -9        1       1      NaN  \n",
       "5        -9        0      -9      NaN  \n",
       "6         0        0       0      NaN  \n",
       "7        -9        0      -9      NaN  \n",
       "8         0        0       0      NaN  \n",
       "9         0        0       0      NaN  \n",
       "\n",
       "[10 rows x 135 columns]"
      ]
     },
     "execution_count": 3,
     "metadata": {},
     "output_type": "execute_result"
    }
   ],
   "source": [
    "df.head(10)"
   ]
  },
  {
   "cell_type": "code",
   "execution_count": 4,
   "id": "514a603a",
   "metadata": {},
   "outputs": [
    {
     "data": {
      "text/plain": [
       "(181691, 135)"
      ]
     },
     "execution_count": 4,
     "metadata": {},
     "output_type": "execute_result"
    }
   ],
   "source": [
    "df.shape"
   ]
  },
  {
   "cell_type": "code",
   "execution_count": 5,
   "id": "dc29a5c6",
   "metadata": {},
   "outputs": [
    {
     "name": "stdout",
     "output_type": "stream",
     "text": [
      "<class 'pandas.core.frame.DataFrame'>\n",
      "RangeIndex: 181691 entries, 0 to 181690\n",
      "Columns: 135 entries, eventid to related\n",
      "dtypes: float64(55), int64(22), object(58)\n",
      "memory usage: 187.1+ MB\n"
     ]
    }
   ],
   "source": [
    "df.info()"
   ]
  },
  {
   "cell_type": "code",
   "execution_count": 6,
   "id": "1a8b7854",
   "metadata": {},
   "outputs": [
    {
     "data": {
      "text/plain": [
       "eventid            0\n",
       "iyear              0\n",
       "imonth             0\n",
       "iday               0\n",
       "approxdate    172452\n",
       "               ...  \n",
       "INT_LOG            0\n",
       "INT_IDEO           0\n",
       "INT_MISC           0\n",
       "INT_ANY            0\n",
       "related       156653\n",
       "Length: 135, dtype: int64"
      ]
     },
     "execution_count": 6,
     "metadata": {},
     "output_type": "execute_result"
    }
   ],
   "source": [
    "df.isnull().sum()"
   ]
  },
  {
   "cell_type": "code",
   "execution_count": 7,
   "id": "836825c2",
   "metadata": {},
   "outputs": [
    {
     "data": {
      "text/plain": [
       "0"
      ]
     },
     "execution_count": 7,
     "metadata": {},
     "output_type": "execute_result"
    }
   ],
   "source": [
    "df.duplicated().sum()"
   ]
  },
  {
   "cell_type": "code",
   "execution_count": 8,
   "id": "b6e36867",
   "metadata": {},
   "outputs": [
    {
     "data": {
      "text/plain": [
       "Index(['eventid', 'iyear', 'imonth', 'iday', 'approxdate', 'extended',\n",
       "       'resolution', 'country', 'country_txt', 'region',\n",
       "       ...\n",
       "       'addnotes', 'scite1', 'scite2', 'scite3', 'dbsource', 'INT_LOG',\n",
       "       'INT_IDEO', 'INT_MISC', 'INT_ANY', 'related'],\n",
       "      dtype='object', length=135)"
      ]
     },
     "execution_count": 8,
     "metadata": {},
     "output_type": "execute_result"
    }
   ],
   "source": [
    "df.columns"
   ]
  },
  {
   "cell_type": "code",
   "execution_count": 9,
   "id": "55693a84",
   "metadata": {},
   "outputs": [
    {
     "name": "stdout",
     "output_type": "stream",
     "text": [
      "(58,)\n"
     ]
    },
    {
     "data": {
      "text/plain": [
       "Index(['approxdate', 'resolution', 'country_txt', 'region_txt', 'provstate',\n",
       "       'city', 'location', 'summary', 'alternative_txt', 'attacktype1_txt',\n",
       "       'attacktype2_txt', 'attacktype3_txt', 'targtype1_txt',\n",
       "       'targsubtype1_txt', 'corp1', 'target1', 'natlty1_txt', 'targtype2_txt',\n",
       "       'targsubtype2_txt', 'corp2', 'target2', 'natlty2_txt', 'targtype3_txt',\n",
       "       'targsubtype3_txt', 'corp3', 'target3', 'natlty3_txt', 'gname',\n",
       "       'gsubname', 'gname2', 'gsubname2', 'gname3', 'gsubname3', 'motive',\n",
       "       'claimmode_txt', 'claimmode2_txt', 'claimmode3_txt', 'weaptype1_txt',\n",
       "       'weapsubtype1_txt', 'weaptype2_txt', 'weapsubtype2_txt',\n",
       "       'weaptype3_txt', 'weapsubtype3_txt', 'weaptype4_txt',\n",
       "       'weapsubtype4_txt', 'weapdetail', 'propextent_txt', 'propcomment',\n",
       "       'divert', 'kidhijcountry', 'ransomnote', 'hostkidoutcome_txt',\n",
       "       'addnotes', 'scite1', 'scite2', 'scite3', 'dbsource', 'related'],\n",
       "      dtype='object')"
      ]
     },
     "execution_count": 9,
     "metadata": {},
     "output_type": "execute_result"
    }
   ],
   "source": [
    "cat_col=df.select_dtypes(include=['object']).columns\n",
    "print(cat_col.shape)\n",
    "cat_col"
   ]
  },
  {
   "cell_type": "code",
   "execution_count": 10,
   "id": "52863952",
   "metadata": {},
   "outputs": [
    {
     "name": "stdout",
     "output_type": "stream",
     "text": [
      "(77,)\n"
     ]
    },
    {
     "data": {
      "text/plain": [
       "Index(['eventid', 'iyear', 'imonth', 'iday', 'extended', 'country', 'region',\n",
       "       'latitude', 'longitude', 'specificity', 'vicinity', 'crit1', 'crit2',\n",
       "       'crit3', 'doubtterr', 'alternative', 'multiple', 'success', 'suicide',\n",
       "       'attacktype1', 'attacktype2', 'attacktype3', 'targtype1',\n",
       "       'targsubtype1', 'natlty1', 'targtype2', 'targsubtype2', 'natlty2',\n",
       "       'targtype3', 'targsubtype3', 'natlty3', 'guncertain1', 'guncertain2',\n",
       "       'guncertain3', 'individual', 'nperps', 'nperpcap', 'claimed',\n",
       "       'claimmode', 'claim2', 'claimmode2', 'claim3', 'claimmode3',\n",
       "       'compclaim', 'weaptype1', 'weapsubtype1', 'weaptype2', 'weapsubtype2',\n",
       "       'weaptype3', 'weapsubtype3', 'weaptype4', 'weapsubtype4', 'nkill',\n",
       "       'nkillus', 'nkillter', 'nwound', 'nwoundus', 'nwoundte', 'property',\n",
       "       'propextent', 'propvalue', 'ishostkid', 'nhostkid', 'nhostkidus',\n",
       "       'nhours', 'ndays', 'ransom', 'ransomamt', 'ransomamtus', 'ransompaid',\n",
       "       'ransompaidus', 'hostkidoutcome', 'nreleased', 'INT_LOG', 'INT_IDEO',\n",
       "       'INT_MISC', 'INT_ANY'],\n",
       "      dtype='object')"
      ]
     },
     "execution_count": 10,
     "metadata": {},
     "output_type": "execute_result"
    }
   ],
   "source": [
    "num_col=df.select_dtypes(exclude=['object']).columns\n",
    "print(num_col.shape)\n",
    "num_col"
   ]
  },
  {
   "cell_type": "code",
   "execution_count": 11,
   "id": "203dc2a9",
   "metadata": {},
   "outputs": [
    {
     "data": {
      "text/html": [
       "<div>\n",
       "<style scoped>\n",
       "    .dataframe tbody tr th:only-of-type {\n",
       "        vertical-align: middle;\n",
       "    }\n",
       "\n",
       "    .dataframe tbody tr th {\n",
       "        vertical-align: top;\n",
       "    }\n",
       "\n",
       "    .dataframe thead th {\n",
       "        text-align: right;\n",
       "    }\n",
       "</style>\n",
       "<table border=\"1\" class=\"dataframe\">\n",
       "  <thead>\n",
       "    <tr style=\"text-align: right;\">\n",
       "      <th></th>\n",
       "      <th>eventid</th>\n",
       "      <th>iyear</th>\n",
       "      <th>imonth</th>\n",
       "      <th>iday</th>\n",
       "      <th>extended</th>\n",
       "      <th>country</th>\n",
       "      <th>region</th>\n",
       "      <th>latitude</th>\n",
       "      <th>longitude</th>\n",
       "      <th>specificity</th>\n",
       "      <th>...</th>\n",
       "      <th>ransomamt</th>\n",
       "      <th>ransomamtus</th>\n",
       "      <th>ransompaid</th>\n",
       "      <th>ransompaidus</th>\n",
       "      <th>hostkidoutcome</th>\n",
       "      <th>nreleased</th>\n",
       "      <th>INT_LOG</th>\n",
       "      <th>INT_IDEO</th>\n",
       "      <th>INT_MISC</th>\n",
       "      <th>INT_ANY</th>\n",
       "    </tr>\n",
       "  </thead>\n",
       "  <tbody>\n",
       "    <tr>\n",
       "      <th>count</th>\n",
       "      <td>1.816910e+05</td>\n",
       "      <td>181691.000000</td>\n",
       "      <td>181691.000000</td>\n",
       "      <td>181691.000000</td>\n",
       "      <td>181691.000000</td>\n",
       "      <td>181691.000000</td>\n",
       "      <td>181691.000000</td>\n",
       "      <td>177135.000000</td>\n",
       "      <td>1.771340e+05</td>\n",
       "      <td>181685.000000</td>\n",
       "      <td>...</td>\n",
       "      <td>1.350000e+03</td>\n",
       "      <td>5.630000e+02</td>\n",
       "      <td>7.740000e+02</td>\n",
       "      <td>552.000000</td>\n",
       "      <td>10991.000000</td>\n",
       "      <td>10400.000000</td>\n",
       "      <td>181691.000000</td>\n",
       "      <td>181691.000000</td>\n",
       "      <td>181691.000000</td>\n",
       "      <td>181691.000000</td>\n",
       "    </tr>\n",
       "    <tr>\n",
       "      <th>mean</th>\n",
       "      <td>2.002705e+11</td>\n",
       "      <td>2002.638997</td>\n",
       "      <td>6.467277</td>\n",
       "      <td>15.505644</td>\n",
       "      <td>0.045346</td>\n",
       "      <td>131.968501</td>\n",
       "      <td>7.160938</td>\n",
       "      <td>23.498343</td>\n",
       "      <td>-4.586957e+02</td>\n",
       "      <td>1.451452</td>\n",
       "      <td>...</td>\n",
       "      <td>3.172530e+06</td>\n",
       "      <td>5.784865e+05</td>\n",
       "      <td>7.179437e+05</td>\n",
       "      <td>240.378623</td>\n",
       "      <td>4.629242</td>\n",
       "      <td>-29.018269</td>\n",
       "      <td>-4.543731</td>\n",
       "      <td>-4.464398</td>\n",
       "      <td>0.090010</td>\n",
       "      <td>-3.945952</td>\n",
       "    </tr>\n",
       "    <tr>\n",
       "      <th>std</th>\n",
       "      <td>1.325957e+09</td>\n",
       "      <td>13.259430</td>\n",
       "      <td>3.388303</td>\n",
       "      <td>8.814045</td>\n",
       "      <td>0.208063</td>\n",
       "      <td>112.414535</td>\n",
       "      <td>2.933408</td>\n",
       "      <td>18.569242</td>\n",
       "      <td>2.047790e+05</td>\n",
       "      <td>0.995430</td>\n",
       "      <td>...</td>\n",
       "      <td>3.021157e+07</td>\n",
       "      <td>7.077924e+06</td>\n",
       "      <td>1.014392e+07</td>\n",
       "      <td>2940.967293</td>\n",
       "      <td>2.035360</td>\n",
       "      <td>65.720119</td>\n",
       "      <td>4.543547</td>\n",
       "      <td>4.637152</td>\n",
       "      <td>0.568457</td>\n",
       "      <td>4.691325</td>\n",
       "    </tr>\n",
       "    <tr>\n",
       "      <th>min</th>\n",
       "      <td>1.970000e+11</td>\n",
       "      <td>1970.000000</td>\n",
       "      <td>0.000000</td>\n",
       "      <td>0.000000</td>\n",
       "      <td>0.000000</td>\n",
       "      <td>4.000000</td>\n",
       "      <td>1.000000</td>\n",
       "      <td>-53.154613</td>\n",
       "      <td>-8.618590e+07</td>\n",
       "      <td>1.000000</td>\n",
       "      <td>...</td>\n",
       "      <td>-9.900000e+01</td>\n",
       "      <td>-9.900000e+01</td>\n",
       "      <td>-9.900000e+01</td>\n",
       "      <td>-99.000000</td>\n",
       "      <td>1.000000</td>\n",
       "      <td>-99.000000</td>\n",
       "      <td>-9.000000</td>\n",
       "      <td>-9.000000</td>\n",
       "      <td>-9.000000</td>\n",
       "      <td>-9.000000</td>\n",
       "    </tr>\n",
       "    <tr>\n",
       "      <th>25%</th>\n",
       "      <td>1.991021e+11</td>\n",
       "      <td>1991.000000</td>\n",
       "      <td>4.000000</td>\n",
       "      <td>8.000000</td>\n",
       "      <td>0.000000</td>\n",
       "      <td>78.000000</td>\n",
       "      <td>5.000000</td>\n",
       "      <td>11.510046</td>\n",
       "      <td>4.545640e+00</td>\n",
       "      <td>1.000000</td>\n",
       "      <td>...</td>\n",
       "      <td>0.000000e+00</td>\n",
       "      <td>0.000000e+00</td>\n",
       "      <td>-9.900000e+01</td>\n",
       "      <td>0.000000</td>\n",
       "      <td>2.000000</td>\n",
       "      <td>-99.000000</td>\n",
       "      <td>-9.000000</td>\n",
       "      <td>-9.000000</td>\n",
       "      <td>0.000000</td>\n",
       "      <td>-9.000000</td>\n",
       "    </tr>\n",
       "    <tr>\n",
       "      <th>50%</th>\n",
       "      <td>2.009022e+11</td>\n",
       "      <td>2009.000000</td>\n",
       "      <td>6.000000</td>\n",
       "      <td>15.000000</td>\n",
       "      <td>0.000000</td>\n",
       "      <td>98.000000</td>\n",
       "      <td>6.000000</td>\n",
       "      <td>31.467463</td>\n",
       "      <td>4.324651e+01</td>\n",
       "      <td>1.000000</td>\n",
       "      <td>...</td>\n",
       "      <td>1.500000e+04</td>\n",
       "      <td>0.000000e+00</td>\n",
       "      <td>0.000000e+00</td>\n",
       "      <td>0.000000</td>\n",
       "      <td>4.000000</td>\n",
       "      <td>0.000000</td>\n",
       "      <td>-9.000000</td>\n",
       "      <td>-9.000000</td>\n",
       "      <td>0.000000</td>\n",
       "      <td>0.000000</td>\n",
       "    </tr>\n",
       "    <tr>\n",
       "      <th>75%</th>\n",
       "      <td>2.014081e+11</td>\n",
       "      <td>2014.000000</td>\n",
       "      <td>9.000000</td>\n",
       "      <td>23.000000</td>\n",
       "      <td>0.000000</td>\n",
       "      <td>160.000000</td>\n",
       "      <td>10.000000</td>\n",
       "      <td>34.685087</td>\n",
       "      <td>6.871033e+01</td>\n",
       "      <td>1.000000</td>\n",
       "      <td>...</td>\n",
       "      <td>4.000000e+05</td>\n",
       "      <td>0.000000e+00</td>\n",
       "      <td>1.273412e+03</td>\n",
       "      <td>0.000000</td>\n",
       "      <td>7.000000</td>\n",
       "      <td>1.000000</td>\n",
       "      <td>0.000000</td>\n",
       "      <td>0.000000</td>\n",
       "      <td>0.000000</td>\n",
       "      <td>0.000000</td>\n",
       "    </tr>\n",
       "    <tr>\n",
       "      <th>max</th>\n",
       "      <td>2.017123e+11</td>\n",
       "      <td>2017.000000</td>\n",
       "      <td>12.000000</td>\n",
       "      <td>31.000000</td>\n",
       "      <td>1.000000</td>\n",
       "      <td>1004.000000</td>\n",
       "      <td>12.000000</td>\n",
       "      <td>74.633553</td>\n",
       "      <td>1.793667e+02</td>\n",
       "      <td>5.000000</td>\n",
       "      <td>...</td>\n",
       "      <td>1.000000e+09</td>\n",
       "      <td>1.320000e+08</td>\n",
       "      <td>2.750000e+08</td>\n",
       "      <td>48000.000000</td>\n",
       "      <td>7.000000</td>\n",
       "      <td>2769.000000</td>\n",
       "      <td>1.000000</td>\n",
       "      <td>1.000000</td>\n",
       "      <td>1.000000</td>\n",
       "      <td>1.000000</td>\n",
       "    </tr>\n",
       "  </tbody>\n",
       "</table>\n",
       "<p>8 rows × 77 columns</p>\n",
       "</div>"
      ],
      "text/plain": [
       "            eventid          iyear         imonth           iday  \\\n",
       "count  1.816910e+05  181691.000000  181691.000000  181691.000000   \n",
       "mean   2.002705e+11    2002.638997       6.467277      15.505644   \n",
       "std    1.325957e+09      13.259430       3.388303       8.814045   \n",
       "min    1.970000e+11    1970.000000       0.000000       0.000000   \n",
       "25%    1.991021e+11    1991.000000       4.000000       8.000000   \n",
       "50%    2.009022e+11    2009.000000       6.000000      15.000000   \n",
       "75%    2.014081e+11    2014.000000       9.000000      23.000000   \n",
       "max    2.017123e+11    2017.000000      12.000000      31.000000   \n",
       "\n",
       "            extended        country         region       latitude  \\\n",
       "count  181691.000000  181691.000000  181691.000000  177135.000000   \n",
       "mean        0.045346     131.968501       7.160938      23.498343   \n",
       "std         0.208063     112.414535       2.933408      18.569242   \n",
       "min         0.000000       4.000000       1.000000     -53.154613   \n",
       "25%         0.000000      78.000000       5.000000      11.510046   \n",
       "50%         0.000000      98.000000       6.000000      31.467463   \n",
       "75%         0.000000     160.000000      10.000000      34.685087   \n",
       "max         1.000000    1004.000000      12.000000      74.633553   \n",
       "\n",
       "          longitude    specificity  ...     ransomamt   ransomamtus  \\\n",
       "count  1.771340e+05  181685.000000  ...  1.350000e+03  5.630000e+02   \n",
       "mean  -4.586957e+02       1.451452  ...  3.172530e+06  5.784865e+05   \n",
       "std    2.047790e+05       0.995430  ...  3.021157e+07  7.077924e+06   \n",
       "min   -8.618590e+07       1.000000  ... -9.900000e+01 -9.900000e+01   \n",
       "25%    4.545640e+00       1.000000  ...  0.000000e+00  0.000000e+00   \n",
       "50%    4.324651e+01       1.000000  ...  1.500000e+04  0.000000e+00   \n",
       "75%    6.871033e+01       1.000000  ...  4.000000e+05  0.000000e+00   \n",
       "max    1.793667e+02       5.000000  ...  1.000000e+09  1.320000e+08   \n",
       "\n",
       "         ransompaid  ransompaidus  hostkidoutcome     nreleased  \\\n",
       "count  7.740000e+02    552.000000    10991.000000  10400.000000   \n",
       "mean   7.179437e+05    240.378623        4.629242    -29.018269   \n",
       "std    1.014392e+07   2940.967293        2.035360     65.720119   \n",
       "min   -9.900000e+01    -99.000000        1.000000    -99.000000   \n",
       "25%   -9.900000e+01      0.000000        2.000000    -99.000000   \n",
       "50%    0.000000e+00      0.000000        4.000000      0.000000   \n",
       "75%    1.273412e+03      0.000000        7.000000      1.000000   \n",
       "max    2.750000e+08  48000.000000        7.000000   2769.000000   \n",
       "\n",
       "             INT_LOG       INT_IDEO       INT_MISC        INT_ANY  \n",
       "count  181691.000000  181691.000000  181691.000000  181691.000000  \n",
       "mean       -4.543731      -4.464398       0.090010      -3.945952  \n",
       "std         4.543547       4.637152       0.568457       4.691325  \n",
       "min        -9.000000      -9.000000      -9.000000      -9.000000  \n",
       "25%        -9.000000      -9.000000       0.000000      -9.000000  \n",
       "50%        -9.000000      -9.000000       0.000000       0.000000  \n",
       "75%         0.000000       0.000000       0.000000       0.000000  \n",
       "max         1.000000       1.000000       1.000000       1.000000  \n",
       "\n",
       "[8 rows x 77 columns]"
      ]
     },
     "execution_count": 11,
     "metadata": {},
     "output_type": "execute_result"
    }
   ],
   "source": [
    "df.describe()"
   ]
  },
  {
   "cell_type": "code",
   "execution_count": 12,
   "id": "248139f0",
   "metadata": {},
   "outputs": [],
   "source": [
    "# Drop irrelevant columns\n",
    "df.drop(['eventid', 'approxdate', 'resolution', 'location', 'alternative', 'alternative_txt', 'multiple', 'related', 'attacktype2', 'attacktype2_txt', 'attacktype3', 'attacktype3_txt', 'doubtterr', 'alternative', 'alternative_txt', 'related'], axis=1, inplace=True)\n",
    "\n",
    "# Rename columns\n",
    "df.rename(columns={'iyear': 'Year', 'imonth': 'Month', 'iday': 'Day', 'country_txt': 'Country', 'region_txt': 'Region', 'provstate': 'State', 'city': 'City', 'latitude': 'Latitude', 'longitude': 'Longitude', 'summary': 'Summary', 'attacktype1_txt': 'AttackType', 'target1': 'Target', 'nkill': 'Killed', 'nwound': 'Wounded', 'targtype1_txt': 'Target_Type', 'gname': 'Group_Name', 'weaptype1_txt': 'Weapon_Type'}, inplace=True)\n",
    "\n",
    "# Handle missing values\n",
    "df.dropna(subset=['Latitude', 'Longitude', 'Country', 'Region'], inplace=True)\n"
   ]
  },
  {
   "cell_type": "code",
   "execution_count": 13,
   "id": "d871ab2f",
   "metadata": {},
   "outputs": [
    {
     "data": {
      "text/plain": [
       "(177134, 122)"
      ]
     },
     "execution_count": 13,
     "metadata": {},
     "output_type": "execute_result"
    }
   ],
   "source": [
    "df.shape"
   ]
  },
  {
   "cell_type": "code",
   "execution_count": 14,
   "id": "f03a489f",
   "metadata": {},
   "outputs": [
    {
     "name": "stderr",
     "output_type": "stream",
     "text": [
      "C:\\Users\\Abdul Rafe Khan\\anaconda3\\lib\\site-packages\\seaborn\\_decorators.py:36: FutureWarning: Pass the following variables as keyword args: x, y. From version 0.12, the only valid positional argument will be `data`, and passing other arguments without an explicit keyword will result in an error or misinterpretation.\n",
      "  warnings.warn(\n"
     ]
    },
    {
     "data": {
      "image/png": "[encoded data removed]",
      "text/plain": [
       "<Figure size 1080x720 with 1 Axes>"
      ]
     },
     "metadata": {
      "needs_background": "light"
     },
     "output_type": "display_data"
    }
   ],
   "source": [
    "# Question 1: What are the top 10 countries with the highest number of terrorist attacks?\n",
    "country_count = df['Country'].value_counts().head(10)\n",
    "plt.figure(figsize=(15, 10))\n",
    "sns.barplot(country_count.index, country_count.values)\n",
    "plt.title('Top 10 Countries with Highest Number of Terrorist Attacks')\n",
    "plt.xlabel('Countries')\n",
    "plt.ylabel('Number of Attacks')\n",
    "plt.show()"
   ]
  },
  {
   "cell_type": "markdown",
   "id": "daf9ac17",
   "metadata": {},
   "source": [
    "We can see that Iraq has the highest number of terrorist attacks, followed by Pakistan and Afghanistan."
   ]
  },
  {
   "cell_type": "code",
   "execution_count": 15,
   "id": "97d23c83",
   "metadata": {},
   "outputs": [
    {
     "name": "stderr",
     "output_type": "stream",
     "text": [
      "C:\\Users\\Abdul Rafe Khan\\anaconda3\\lib\\site-packages\\seaborn\\_decorators.py:36: FutureWarning: Pass the following variables as keyword args: x, y. From version 0.12, the only valid positional argument will be `data`, and passing other arguments without an explicit keyword will result in an error or misinterpretation.\n",
      "  warnings.warn(\n"
     ]
    },
    {
     "data": {
      "image/png": "[encoded data removed]",
      "text/plain": [
       "<Figure size 1296x864 with 1 Axes>"
      ]
     },
     "metadata": {
      "needs_background": "light"
     },
     "output_type": "display_data"
    }
   ],
   "source": [
    "#Question 3: What are the most affected regions by terrorism?\n",
    "region_count = df['Region'].value_counts()\n",
    "plt.figure(figsize=(18, 12))\n",
    "sns.barplot(region_count.index, region_count.values)\n",
    "plt.title('Most Affected Regions by Terrorism')\n",
    "plt.xlabel('Regions')\n",
    "plt.ylabel('Number of Attacks')\n",
    "plt.show()\n"
   ]
  },
  {
   "cell_type": "markdown",
   "id": "f71c9643",
   "metadata": {},
   "source": [
    "We can see that the Middle East & North Africa and South Asia have the highest number of terrorist attacks, followed by Sub-Saharan Africa and South America. North America and Western Europe have relatively lower number of attacks."
   ]
  },
  {
   "cell_type": "code",
   "execution_count": 16,
   "id": "399c7869",
   "metadata": {},
   "outputs": [
    {
     "name": "stderr",
     "output_type": "stream",
     "text": [
      "C:\\Users\\Abdul Rafe Khan\\anaconda3\\lib\\site-packages\\seaborn\\_decorators.py:36: FutureWarning: Pass the following variables as keyword args: x, y. From version 0.12, the only valid positional argument will be `data`, and passing other arguments without an explicit keyword will result in an error or misinterpretation.\n",
      "  warnings.warn(\n"
     ]
    },
    {
     "data": {
      "image/png": "[encoded data removed]",
      "text/plain": [
       "<Figure size 1080x864 with 1 Axes>"
      ]
     },
     "metadata": {
      "needs_background": "light"
     },
     "output_type": "display_data"
    }
   ],
   "source": [
    "#Question 4: Which terrorist groups are responsible for the highest number of attacks?\n",
    "group_count = df['Group_Name'].value_counts().head(10)\n",
    "plt.figure(figsize=(15, 12))\n",
    "sns.barplot(group_count.index, group_count.values)\n",
    "plt.title('Terrorist Groups with Highest Number of Attacks')\n",
    "plt.xlabel('Terrorist Groups')\n",
    "plt.ylabel('Number of Attacks')\n",
    "plt.xticks(rotation=90)\n",
    "plt.show()"
   ]
  },
  {
   "cell_type": "code",
   "execution_count": 17,
   "id": "a368030d",
   "metadata": {},
   "outputs": [
    {
     "data": {
      "image/png": "[encoded data removed]",
      "text/plain": [
       "<Figure size 1152x576 with 1 Axes>"
      ]
     },
     "metadata": {
      "needs_background": "light"
     },
     "output_type": "display_data"
    }
   ],
   "source": [
    "attack_types = df['AttackType'].value_counts().sort_values(ascending=False)\n",
    "plt.figure(figsize=(16,8))\n",
    "sns.barplot(x=attack_types.index, y=attack_types.values, palette='viridis')\n",
    "plt.title('Types of Terrorist Attacks', fontsize=20)\n",
    "plt.xlabel('Attack Type', fontsize=16)\n",
    "plt.ylabel('Number of Attacks', fontsize=16)\n",
    "plt.xticks(rotation=90)\n",
    "plt.show()"
   ]
  },
  {
   "cell_type": "markdown",
   "id": "88f6c68d",
   "metadata": {},
   "source": [
    "We can see that bombing/explosion is the most common type of terrorist attack, followed by armed assault and assassination."
   ]
  },
  {
   "cell_type": "code",
   "execution_count": 18,
   "id": "f37b391f",
   "metadata": {},
   "outputs": [
    {
     "data": {
      "text/plain": [
       "Text(0.5, 1.0, 'Number of Casualties by Year')"
      ]
     },
     "execution_count": 18,
     "metadata": {},
     "output_type": "execute_result"
    },
    {
     "data": {
      "image/png": "[encoded data removed]",
      "text/plain": [
       "<Figure size 1152x576 with 1 Axes>"
      ]
     },
     "metadata": {
      "needs_background": "light"
     },
     "output_type": "display_data"
    }
   ],
   "source": [
    "df['Casualties'] = df['Killed'] + df['Wounded']\n",
    "casualties_by_year = df.groupby('Year')['Casualties'].sum()\n",
    "plt.figure(figsize=(16,8))\n",
    "sns.lineplot(x=casualties_by_year.index, y=casualties_by_year.values, color='red')\n",
    "plt.title('Number of Casualties by Year', fontsize=20)"
   ]
  },
  {
   "cell_type": "markdown",
   "id": "86166a7e",
   "metadata": {},
   "source": [
    "The number of terrorist attacks and casualties has been increasing since the 1970s, with a peak in the mid-2010s. The sharp drop in the number of attacks and casualties in 2018-2019 might be due to incomplete data."
   ]
  },
  {
   "cell_type": "markdown",
   "id": "abd8da32",
   "metadata": {},
   "source": [
    "# Conclusion\n",
    "From the EDA we can derive the following insights:\n",
    "\n",
    "● The number of terrorist attacks and casualties has been increasing since the 1970s, with a peak in the mid-2010s. The sharp   drop in the number of attacks and casualties in 2018-2019 might be due to incomplete data.\n",
    "\n",
    "● The Middle East & North Africa and South Asia have the highest number of terrorist attacks and casualties, followed by Sub-Saharan Africa and South America. North America and Western Europe have relatively lower number of attacks and casualties.\n",
    "Iraq, Pakistan, and Afghanistan have the highest number of terrorist attacks and casualties.\n",
    "\n",
    "● Bombing/explosion is the most common type of terrorist attack, followed by armed assault and assassination."
   ]
  },
  {
   "cell_type": "markdown",
   "id": "5b2eca5f",
   "metadata": {},
   "source": [
    "#Thank You"
   ]
  },
  {
   "cell_type": "code",
   "execution_count": null,
   "id": "780d801d",
   "metadata": {},
   "outputs": [],
   "source": []
  }
 ],
 "metadata": {
  "kernelspec": {
   "display_name": "Python 3 (ipykernel)",
   "language": "python",
   "name": "python3"
  },
  "language_info": {
   "codemirror_mode": {
    "name": "ipython",
    "version": 3
   },
   "file_extension": ".py",
   "mimetype": "text/x-python",
   "name": "python",
   "nbconvert_exporter": "python",
   "pygments_lexer": "ipython3",
   "version": "3.9.12"
  }
 },
 "nbformat": 4,
 "nbformat_minor": 5
}
